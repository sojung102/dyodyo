{
  "nbformat": 4,
  "nbformat_minor": 0,
  "metadata": {
    "colab": {
      "provenance": [],
      "authorship_tag": "ABX9TyPBfU0EbINeAX5qfR/OH4NK",
      "include_colab_link": true
    },
    "kernelspec": {
      "name": "python3",
      "display_name": "Python 3"
    },
    "language_info": {
      "name": "python"
    }
  },
  "cells": [
    {
      "cell_type": "markdown",
      "metadata": {
        "id": "view-in-github",
        "colab_type": "text"
      },
      "source": [
        "<a href=\"https://colab.research.google.com/github/sojung102/dyodyo/blob/master/%EC%88%98%EC%B9%98%ED%95%B4%EC%84%9D1%EC%B0%A8(%EC%98%88%EC%A0%9C3_1).ipynb\" target=\"_parent\"><img src=\"https://colab.research.google.com/assets/colab-badge.svg\" alt=\"Open In Colab\"/></a>"
      ]
    },
    {
      "cell_type": "code",
      "source": [
        "import os\n",
        "from google.colab import drive\n",
        "drive.mount('/content/drive/')"
      ],
      "metadata": {
        "colab": {
          "base_uri": "https://localhost:8080/"
        },
        "id": "USjWFE_sJuQf",
        "outputId": "c993520f-ce67-490c-8928-0eb4898a1318"
      },
      "execution_count": null,
      "outputs": [
        {
          "output_type": "stream",
          "name": "stdout",
          "text": [
            "Mounted at /content/drive/\n"
          ]
        }
      ]
    },
    {
      "cell_type": "code",
      "execution_count": null,
      "metadata": {
        "id": "ijt1GsdY5UEW"
      },
      "outputs": [],
      "source": [
        "def f(x):\n",
        "    return x**5 + 3*x - 1"
      ]
    },
    {
      "cell_type": "code",
      "source": [
        "def bisection(a, b, tolerance):\n",
        "  fa = f(a)\n",
        "  fb = f(b)\n",
        "\n",
        "  while True:\n",
        "    c = (a + b) / 2\n",
        "    fc = f(c)\n",
        "\n",
        "    #상대오차\n",
        "    error = abs((b - a) / c) * 100\n",
        "\n",
        "    if error < tolerance:\n",
        "      break\n",
        "\n",
        "    if fa * fc < 0:\n",
        "      b = c\n",
        "      fb = fc\n",
        "    else:\n",
        "      a = c\n",
        "      fa = fc\n",
        "  return c"
      ],
      "metadata": {
        "id": "x-YXS0gPAnuU"
      },
      "execution_count": null,
      "outputs": []
    },
    {
      "cell_type": "code",
      "source": [
        "a=0\n",
        "b=1\n",
        "tolerance = 0.01"
      ],
      "metadata": {
        "id": "QssQSFibA7EU"
      },
      "execution_count": null,
      "outputs": []
    },
    {
      "cell_type": "code",
      "source": [
        "root = bisection(a, b, tolerance)\n",
        "print(f\"\\n근사 해: {root:.3f}\")"
      ],
      "metadata": {
        "colab": {
          "base_uri": "https://localhost:8080/"
        },
        "id": "Xtxru22zGi0X",
        "outputId": "40f2807c-f47e-4d71-c2d4-00a3a0cfd5f5"
      },
      "execution_count": null,
      "outputs": [
        {
          "output_type": "stream",
          "name": "stdout",
          "text": [
            "\n",
            "근사 해: 0.332\n"
          ]
        }
      ]
    }
  ]
}